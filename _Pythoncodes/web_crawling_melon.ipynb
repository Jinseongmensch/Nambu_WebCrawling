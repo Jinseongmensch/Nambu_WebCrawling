{
 "cells": [
  {
   "cell_type": "code",
   "execution_count": 16,
   "id": "f3b7ee26",
   "metadata": {
    "scrolled": true
   },
   "outputs": [
    {
     "name": "stdout",
     "output_type": "stream",
     "text": [
      "[\"javascript:melon.link.goSongDetail('36430773');\", \"javascript:melon.link.goSongDetail('36416114');\", \"javascript:melon.link.goSongDetail('36356993');\", \"javascript:melon.link.goSongDetail('36411342');\", \"javascript:melon.link.goSongDetail('36318125');\", \"javascript:melon.link.goSongDetail('36331121');\", \"javascript:melon.link.goSongDetail('36391236');\", \"javascript:melon.link.goSongDetail('34061322');\", \"javascript:melon.link.goSongDetail('35454426');\", \"javascript:melon.link.goSongDetail('35945927');\", \"javascript:melon.link.goSongDetail('36404853');\", \"javascript:melon.link.goSongDetail('34908740');\", \"javascript:melon.link.goSongDetail('35834583');\", \"javascript:melon.link.goSongDetail('36110996');\", \"javascript:melon.link.goSongDetail('36206259');\", \"javascript:melon.link.goSongDetail('36430774');\", \"javascript:melon.link.goSongDetail('35008524');\", \"javascript:melon.link.goSongDetail('35834584');\", \"javascript:melon.link.goSongDetail('35985167');\", \"javascript:melon.link.goSongDetail('36382580');\", \"javascript:melon.link.goSongDetail('32508053');\", \"javascript:melon.link.goSongDetail('35008525');\", \"javascript:melon.link.goSongDetail('36105548');\", \"javascript:melon.link.goSongDetail('34819473');\", \"javascript:melon.link.goSongDetail('36440243');\", \"javascript:melon.link.goSongDetail('35008527');\", \"javascript:melon.link.goSongDetail('36394038');\", \"javascript:melon.link.goSongDetail('8037843');\", \"javascript:melon.link.goSongDetail('36180700');\", \"javascript:melon.link.goSongDetail('35640751');\", \"javascript:melon.link.goSongDetail('36410735');\", \"javascript:melon.link.goSongDetail('35008528');\", \"javascript:melon.link.goSongDetail('35008534');\", \"javascript:melon.link.goSongDetail('36416116');\", \"javascript:melon.link.goSongDetail('35546497');\", \"javascript:melon.link.goSongDetail('35008526');\", \"javascript:melon.link.goSongDetail('35008531');\", \"javascript:melon.link.goSongDetail('35008532');\", \"javascript:melon.link.goSongDetail('35535827');\", \"javascript:melon.link.goSongDetail('36414423');\", \"javascript:melon.link.goSongDetail('35729104');\", \"javascript:melon.link.goSongDetail('34847378');\", \"javascript:melon.link.goSongDetail('35008530');\", \"javascript:melon.link.goSongDetail('36365073');\", \"javascript:melon.link.goSongDetail('35454425');\", \"javascript:melon.link.goSongDetail('36428682');\", \"javascript:melon.link.goSongDetail('36351997');\", \"javascript:melon.link.goSongDetail('36145589');\", \"javascript:melon.link.goSongDetail('36313117');\", \"javascript:melon.link.goSongDetail('32872978');\", \"javascript:melon.link.goSongDetail('36371558');\", \"javascript:melon.link.goSongDetail('36411344');\", \"javascript:melon.link.goSongDetail('34657844');\", \"javascript:melon.link.goSongDetail('4446485');\", \"javascript:melon.link.goSongDetail('36441862');\", \"javascript:melon.link.goSongDetail('36444534');\", \"javascript:melon.link.goSongDetail('36416115');\", \"javascript:melon.link.goSongDetail('35730562');\", \"javascript:melon.link.goSongDetail('36359275');\", \"javascript:melon.link.goSongDetail('30244931');\", \"javascript:melon.link.goSongDetail('36266615');\", \"javascript:melon.link.goSongDetail('34754292');\", \"javascript:melon.link.goSongDetail('36206208');\", \"javascript:melon.link.goSongDetail('33507137');\", \"javascript:melon.link.goSongDetail('36334401');\", \"javascript:melon.link.goSongDetail('35252996');\", \"javascript:melon.link.goSongDetail('36001290');\", \"javascript:melon.link.goSongDetail('35643794');\", \"javascript:melon.link.goSongDetail('35931532');\", \"javascript:melon.link.goSongDetail('36452742');\", \"javascript:melon.link.goSongDetail('34864406');\", \"javascript:melon.link.goSongDetail('33666269');\", \"javascript:melon.link.goSongDetail('36391235');\", \"javascript:melon.link.goSongDetail('35361345');\", \"javascript:melon.link.goSongDetail('33658563');\", \"javascript:melon.link.goSongDetail('35667692');\", \"javascript:melon.link.goSongDetail('34431086');\", \"javascript:melon.link.goSongDetail('35953611');\", \"javascript:melon.link.goSongDetail('34927767');\", \"javascript:melon.link.goSongDetail('34349913');\", \"javascript:melon.link.goSongDetail('35009233');\", \"javascript:melon.link.goSongDetail('34787226');\", \"javascript:melon.link.goSongDetail('36245034');\", \"javascript:melon.link.goSongDetail('33496587');\", \"javascript:melon.link.goSongDetail('35640077');\", \"javascript:melon.link.goSongDetail('36241824');\", \"javascript:melon.link.goSongDetail('35849863');\", \"javascript:melon.link.goSongDetail('36456696');\", \"javascript:melon.link.goSongDetail('35595136');\", \"javascript:melon.link.goSongDetail('36325563');\", \"javascript:melon.link.goSongDetail('36322781');\", \"javascript:melon.link.goSongDetail('35542908');\", \"javascript:melon.link.goSongDetail('36472351');\", \"javascript:melon.link.goSongDetail('35383397');\", \"javascript:melon.link.goSongDetail('34270805');\", \"javascript:melon.link.goSongDetail('36065180');\", \"javascript:melon.link.goSongDetail('36447331');\", \"javascript:melon.link.goSongDetail('36034936');\", \"javascript:melon.link.goSongDetail('35690912');\", \"javascript:melon.link.goSongDetail('30962526');\"]\n"
     ]
    }
   ],
   "source": [
    "import requests as req\n",
    "from bs4 import BeautifulSoup as bs\n",
    "\n",
    "\n",
    "headers={\"User-Agent\":\"Mozilla/5.0 (Windows NT 10.0; Win64; x64) AppleWebKit/537.36 (KHTML, like Gecko) Chrome/113.0.0.0 Safari/537.36\"}\n",
    "url=\"https://www.melon.com/chart/index.htm\"\n",
    "res_melon=req.get(url,headers=headers)\n",
    "soup_melon=bs(res_melon.text,\"html\")\n",
    "m_lyric=soup_melon.select(\"div.wrap>a\")\n",
    "\n",
    "java_href=[]\n",
    "\n",
    "for i in m_lyric:\n",
    "        java_href.append(i.get(\"href\"))\n",
    "    \n",
    "java_href=[data for data in java_href if \"goSongDetail\" in data]\n",
    "\n",
    "print(java_href)"
   ]
  },
  {
   "cell_type": "code",
   "execution_count": 17,
   "id": "b32b58bf",
   "metadata": {},
   "outputs": [
    {
     "name": "stdout",
     "output_type": "stream",
     "text": [
      "['36430773', '36416114', '36356993', '36411342', '36318125', '36331121', '36391236', '34061322', '35454426', '35945927', '36404853', '34908740', '35834583', '36110996', '36206259', '36430774', '35008524', '35834584', '35985167', '36382580', '32508053', '35008525', '36105548', '34819473', '36440243', '35008527', '36394038', '8037843', '36180700', '35640751', '36410735', '35008528', '35008534', '36416116', '35546497', '35008526', '35008531', '35008532', '35535827', '36414423', '35729104', '34847378', '35008530', '36365073', '35454425', '36428682', '36351997', '36145589', '36313117', '32872978', '36371558', '36411344', '34657844', '4446485', '36441862', '36444534', '36416115', '35730562', '36359275', '30244931', '36266615', '34754292', '36206208', '33507137', '36334401', '35252996', '36001290', '35643794', '35931532', '36452742', '34864406', '33666269', '36391235', '35361345', '33658563', '35667692', '34431086', '35953611', '34927767', '34349913', '35009233', '34787226', '36245034', '33496587', '35640077', '36241824', '35849863', '36456696', '35595136', '36325563', '36322781', '35542908', '36472351', '35383397', '34270805', '36065180', '36447331', '36034936', '35690912', '30962526']\n"
     ]
    }
   ],
   "source": [
    "import re\n",
    "\n",
    "def find_numbers_in_strings(data_list):\n",
    "    numbers_list = []\n",
    "    pattern = r'\\d+'  # Regular expression pattern to match numbers\n",
    "\n",
    "    for string in data_list:\n",
    "        numbers = re.findall(pattern, string)\n",
    "        numbers_list.extend(numbers)\n",
    "\n",
    "    return numbers_list\n",
    "\n",
    "# Example usage\n",
    "numbers_list = find_numbers_in_strings(java_href)\n",
    "print(numbers_list)"
   ]
  },
  {
   "cell_type": "code",
   "execution_count": 18,
   "id": "6b667f0e",
   "metadata": {},
   "outputs": [
    {
     "data": {
      "text/plain": [
       "['https://www.melon.com/song/detail.htm?songId=36430773',\n",
       " 'https://www.melon.com/song/detail.htm?songId=36416114',\n",
       " 'https://www.melon.com/song/detail.htm?songId=36356993',\n",
       " 'https://www.melon.com/song/detail.htm?songId=36411342',\n",
       " 'https://www.melon.com/song/detail.htm?songId=36318125',\n",
       " 'https://www.melon.com/song/detail.htm?songId=36331121',\n",
       " 'https://www.melon.com/song/detail.htm?songId=36391236',\n",
       " 'https://www.melon.com/song/detail.htm?songId=34061322',\n",
       " 'https://www.melon.com/song/detail.htm?songId=35454426',\n",
       " 'https://www.melon.com/song/detail.htm?songId=35945927',\n",
       " 'https://www.melon.com/song/detail.htm?songId=36404853',\n",
       " 'https://www.melon.com/song/detail.htm?songId=34908740',\n",
       " 'https://www.melon.com/song/detail.htm?songId=35834583',\n",
       " 'https://www.melon.com/song/detail.htm?songId=36110996',\n",
       " 'https://www.melon.com/song/detail.htm?songId=36206259',\n",
       " 'https://www.melon.com/song/detail.htm?songId=36430774',\n",
       " 'https://www.melon.com/song/detail.htm?songId=35008524',\n",
       " 'https://www.melon.com/song/detail.htm?songId=35834584',\n",
       " 'https://www.melon.com/song/detail.htm?songId=35985167',\n",
       " 'https://www.melon.com/song/detail.htm?songId=36382580',\n",
       " 'https://www.melon.com/song/detail.htm?songId=32508053',\n",
       " 'https://www.melon.com/song/detail.htm?songId=35008525',\n",
       " 'https://www.melon.com/song/detail.htm?songId=36105548',\n",
       " 'https://www.melon.com/song/detail.htm?songId=34819473',\n",
       " 'https://www.melon.com/song/detail.htm?songId=36440243',\n",
       " 'https://www.melon.com/song/detail.htm?songId=35008527',\n",
       " 'https://www.melon.com/song/detail.htm?songId=36394038',\n",
       " 'https://www.melon.com/song/detail.htm?songId=8037843',\n",
       " 'https://www.melon.com/song/detail.htm?songId=36180700',\n",
       " 'https://www.melon.com/song/detail.htm?songId=35640751',\n",
       " 'https://www.melon.com/song/detail.htm?songId=36410735',\n",
       " 'https://www.melon.com/song/detail.htm?songId=35008528',\n",
       " 'https://www.melon.com/song/detail.htm?songId=35008534',\n",
       " 'https://www.melon.com/song/detail.htm?songId=36416116',\n",
       " 'https://www.melon.com/song/detail.htm?songId=35546497',\n",
       " 'https://www.melon.com/song/detail.htm?songId=35008526',\n",
       " 'https://www.melon.com/song/detail.htm?songId=35008531',\n",
       " 'https://www.melon.com/song/detail.htm?songId=35008532',\n",
       " 'https://www.melon.com/song/detail.htm?songId=35535827',\n",
       " 'https://www.melon.com/song/detail.htm?songId=36414423',\n",
       " 'https://www.melon.com/song/detail.htm?songId=35729104',\n",
       " 'https://www.melon.com/song/detail.htm?songId=34847378',\n",
       " 'https://www.melon.com/song/detail.htm?songId=35008530',\n",
       " 'https://www.melon.com/song/detail.htm?songId=36365073',\n",
       " 'https://www.melon.com/song/detail.htm?songId=35454425',\n",
       " 'https://www.melon.com/song/detail.htm?songId=36428682',\n",
       " 'https://www.melon.com/song/detail.htm?songId=36351997',\n",
       " 'https://www.melon.com/song/detail.htm?songId=36145589',\n",
       " 'https://www.melon.com/song/detail.htm?songId=36313117',\n",
       " 'https://www.melon.com/song/detail.htm?songId=32872978',\n",
       " 'https://www.melon.com/song/detail.htm?songId=36371558',\n",
       " 'https://www.melon.com/song/detail.htm?songId=36411344',\n",
       " 'https://www.melon.com/song/detail.htm?songId=34657844',\n",
       " 'https://www.melon.com/song/detail.htm?songId=4446485',\n",
       " 'https://www.melon.com/song/detail.htm?songId=36441862',\n",
       " 'https://www.melon.com/song/detail.htm?songId=36444534',\n",
       " 'https://www.melon.com/song/detail.htm?songId=36416115',\n",
       " 'https://www.melon.com/song/detail.htm?songId=35730562',\n",
       " 'https://www.melon.com/song/detail.htm?songId=36359275',\n",
       " 'https://www.melon.com/song/detail.htm?songId=30244931',\n",
       " 'https://www.melon.com/song/detail.htm?songId=36266615',\n",
       " 'https://www.melon.com/song/detail.htm?songId=34754292',\n",
       " 'https://www.melon.com/song/detail.htm?songId=36206208',\n",
       " 'https://www.melon.com/song/detail.htm?songId=33507137',\n",
       " 'https://www.melon.com/song/detail.htm?songId=36334401',\n",
       " 'https://www.melon.com/song/detail.htm?songId=35252996',\n",
       " 'https://www.melon.com/song/detail.htm?songId=36001290',\n",
       " 'https://www.melon.com/song/detail.htm?songId=35643794',\n",
       " 'https://www.melon.com/song/detail.htm?songId=35931532',\n",
       " 'https://www.melon.com/song/detail.htm?songId=36452742',\n",
       " 'https://www.melon.com/song/detail.htm?songId=34864406',\n",
       " 'https://www.melon.com/song/detail.htm?songId=33666269',\n",
       " 'https://www.melon.com/song/detail.htm?songId=36391235',\n",
       " 'https://www.melon.com/song/detail.htm?songId=35361345',\n",
       " 'https://www.melon.com/song/detail.htm?songId=33658563',\n",
       " 'https://www.melon.com/song/detail.htm?songId=35667692',\n",
       " 'https://www.melon.com/song/detail.htm?songId=34431086',\n",
       " 'https://www.melon.com/song/detail.htm?songId=35953611',\n",
       " 'https://www.melon.com/song/detail.htm?songId=34927767',\n",
       " 'https://www.melon.com/song/detail.htm?songId=34349913',\n",
       " 'https://www.melon.com/song/detail.htm?songId=35009233',\n",
       " 'https://www.melon.com/song/detail.htm?songId=34787226',\n",
       " 'https://www.melon.com/song/detail.htm?songId=36245034',\n",
       " 'https://www.melon.com/song/detail.htm?songId=33496587',\n",
       " 'https://www.melon.com/song/detail.htm?songId=35640077',\n",
       " 'https://www.melon.com/song/detail.htm?songId=36241824',\n",
       " 'https://www.melon.com/song/detail.htm?songId=35849863',\n",
       " 'https://www.melon.com/song/detail.htm?songId=36456696',\n",
       " 'https://www.melon.com/song/detail.htm?songId=35595136',\n",
       " 'https://www.melon.com/song/detail.htm?songId=36325563',\n",
       " 'https://www.melon.com/song/detail.htm?songId=36322781',\n",
       " 'https://www.melon.com/song/detail.htm?songId=35542908',\n",
       " 'https://www.melon.com/song/detail.htm?songId=36472351',\n",
       " 'https://www.melon.com/song/detail.htm?songId=35383397',\n",
       " 'https://www.melon.com/song/detail.htm?songId=34270805',\n",
       " 'https://www.melon.com/song/detail.htm?songId=36065180',\n",
       " 'https://www.melon.com/song/detail.htm?songId=36447331',\n",
       " 'https://www.melon.com/song/detail.htm?songId=36034936',\n",
       " 'https://www.melon.com/song/detail.htm?songId=35690912',\n",
       " 'https://www.melon.com/song/detail.htm?songId=30962526']"
      ]
     },
     "execution_count": 18,
     "metadata": {},
     "output_type": "execute_result"
    }
   ],
   "source": [
    "headers={\"User-Agent\":\"Mozilla/5.0 (Windows NT 10.0; Win64; x64) AppleWebKit/537.36 (KHTML, like Gecko) Chrome/113.0.0.0 Safari/537.36\"}\n",
    "url=\"https://www.melon.com/song/detail.htm?songId=\"\n",
    "url_list=[]\n",
    "for i in numbers_list:\n",
    "    url_list.append(url+i)\n",
    "\n",
    "url_list\n"
   ]
  },
  {
   "cell_type": "code",
   "execution_count": 20,
   "id": "08f7e40f",
   "metadata": {},
   "outputs": [
    {
     "ename": "NameError",
     "evalue": "name 'song_lyrics_element' is not defined",
     "output_type": "error",
     "traceback": [
      "\u001b[1;31m---------------------------------------------------------------------------\u001b[0m",
      "\u001b[1;31mNameError\u001b[0m                                 Traceback (most recent call last)",
      "Cell \u001b[1;32mIn[20], line 10\u001b[0m\n\u001b[0;32m      7\u001b[0m \u001b[38;5;66;03m# Find the element containing the song lyrics using appropriate selectors\u001b[39;00m\n\u001b[0;32m      8\u001b[0m     song_lyrics_element \u001b[38;5;241m=\u001b[39m soup\u001b[38;5;241m.\u001b[39mselect_one(\u001b[38;5;124m\"\u001b[39m\u001b[38;5;124mdiv.lyric\u001b[39m\u001b[38;5;124m\"\u001b[39m)\n\u001b[1;32m---> 10\u001b[0m \u001b[38;5;28;01mif\u001b[39;00m \u001b[43msong_lyrics_element\u001b[49m:\n\u001b[0;32m     11\u001b[0m     \u001b[38;5;66;03m# Extract the text from the element\u001b[39;00m\n\u001b[0;32m     12\u001b[0m     song_lyrics \u001b[38;5;241m=\u001b[39m song_lyrics_element\u001b[38;5;241m.\u001b[39mget_text()\n\u001b[0;32m     14\u001b[0m     \u001b[38;5;66;03m# Process or display the song lyrics as needed\u001b[39;00m\n",
      "\u001b[1;31mNameError\u001b[0m: name 'song_lyrics_element' is not defined"
     ]
    }
   ],
   "source": [
    "for i in url_list:\n",
    "    response=req.get(i,headers=headers)\n",
    "    if response.status_code == 200:\n",
    "    # Create a BeautifulSoup object with the response text\n",
    "        soup = bs(response.text, \"html.parser\")\n",
    "\n",
    "    # Find the element containing the song lyrics using appropriate selectors\n",
    "        song_lyrics_element = soup.select_one(\"div.lyric\")\n",
    "\n",
    "    if song_lyrics_element:\n",
    "        # Extract the text from the element\n",
    "        song_lyrics = song_lyrics_element.get_text()\n",
    "\n",
    "        # Process or display the song lyrics as needed\n",
    "        print(song_lyrics)\n",
    "    else:\n",
    "        print(\"Song lyrics element not found on the webpage.\")\n",
    "else:\n",
    "    print(f\"Failed to retrieve data from URL: {url}\")"
   ]
  }
 ],
 "metadata": {
  "kernelspec": {
   "display_name": "Python 3 (ipykernel)",
   "language": "python",
   "name": "python3"
  },
  "language_info": {
   "codemirror_mode": {
    "name": "ipython",
    "version": 3
   },
   "file_extension": ".py",
   "mimetype": "text/x-python",
   "name": "python",
   "nbconvert_exporter": "python",
   "pygments_lexer": "ipython3",
   "version": "3.10.9"
  }
 },
 "nbformat": 4,
 "nbformat_minor": 5
}
