{
 "cells": [
  {
   "cell_type": "code",
   "execution_count": 26,
   "id": "2c1a77ea",
   "metadata": {},
   "outputs": [
    {
     "name": "stdout",
     "output_type": "stream",
     "text": [
      "Requirement already satisfied: selenium in c:\\users\\wlstj\\anaconda3\\lib\\site-packages (4.9.1)\n",
      "Requirement already satisfied: trio~=0.17 in c:\\users\\wlstj\\anaconda3\\lib\\site-packages (from selenium) (0.22.0)\n",
      "Requirement already satisfied: certifi>=2021.10.8 in c:\\users\\wlstj\\anaconda3\\lib\\site-packages (from selenium) (2022.12.7)\n",
      "Requirement already satisfied: trio-websocket~=0.9 in c:\\users\\wlstj\\anaconda3\\lib\\site-packages (from selenium) (0.10.2)\n",
      "Requirement already satisfied: urllib3[socks]<3,>=1.26 in c:\\users\\wlstj\\anaconda3\\lib\\site-packages (from selenium) (1.26.14)\n",
      "Requirement already satisfied: attrs>=19.2.0 in c:\\users\\wlstj\\anaconda3\\lib\\site-packages (from trio~=0.17->selenium) (22.1.0)\n",
      "Requirement already satisfied: cffi>=1.14 in c:\\users\\wlstj\\anaconda3\\lib\\site-packages (from trio~=0.17->selenium) (1.15.1)\n",
      "Requirement already satisfied: sortedcontainers in c:\\users\\wlstj\\anaconda3\\lib\\site-packages (from trio~=0.17->selenium) (2.4.0)\n",
      "Requirement already satisfied: idna in c:\\users\\wlstj\\anaconda3\\lib\\site-packages (from trio~=0.17->selenium) (3.4)\n",
      "Requirement already satisfied: sniffio in c:\\users\\wlstj\\anaconda3\\lib\\site-packages (from trio~=0.17->selenium) (1.2.0)\n",
      "Requirement already satisfied: async-generator>=1.9 in c:\\users\\wlstj\\anaconda3\\lib\\site-packages (from trio~=0.17->selenium) (1.10)\n",
      "Requirement already satisfied: outcome in c:\\users\\wlstj\\anaconda3\\lib\\site-packages (from trio~=0.17->selenium) (1.2.0)\n",
      "Requirement already satisfied: exceptiongroup>=1.0.0rc9 in c:\\users\\wlstj\\anaconda3\\lib\\site-packages (from trio~=0.17->selenium) (1.1.1)\n",
      "Requirement already satisfied: wsproto>=0.14 in c:\\users\\wlstj\\anaconda3\\lib\\site-packages (from trio-websocket~=0.9->selenium) (1.2.0)\n",
      "Requirement already satisfied: PySocks!=1.5.7,<2.0,>=1.5.6 in c:\\users\\wlstj\\anaconda3\\lib\\site-packages (from urllib3[socks]<3,>=1.26->selenium) (1.7.1)\n",
      "Requirement already satisfied: pycparser in c:\\users\\wlstj\\anaconda3\\lib\\site-packages (from cffi>=1.14->trio~=0.17->selenium) (2.21)\n",
      "Requirement already satisfied: h11<1,>=0.9.0 in c:\\users\\wlstj\\anaconda3\\lib\\site-packages (from wsproto>=0.14->trio-websocket~=0.9->selenium) (0.14.0)\n",
      "Note: you may need to restart the kernel to use updated packages.\n"
     ]
    }
   ],
   "source": [
    "pip install selenium"
   ]
  },
  {
   "cell_type": "code",
   "execution_count": 1,
   "id": "3f76a0b4",
   "metadata": {},
   "outputs": [
    {
     "name": "stdout",
     "output_type": "stream",
     "text": [
      "[\"javascript:melon.link.goSongDetail('36430773');\", \"javascript:melon.link.goSongDetail('36416114');\", \"javascript:melon.link.goSongDetail('36356993');\", \"javascript:melon.link.goSongDetail('36411342');\", \"javascript:melon.link.goSongDetail('36318125');\", \"javascript:melon.link.goSongDetail('36331121');\", \"javascript:melon.link.goSongDetail('36391236');\", \"javascript:melon.link.goSongDetail('35454426');\", \"javascript:melon.link.goSongDetail('35945927');\", \"javascript:melon.link.goSongDetail('36404853');\", \"javascript:melon.link.goSongDetail('36206259');\", \"javascript:melon.link.goSongDetail('36382580');\", \"javascript:melon.link.goSongDetail('36430774');\", \"javascript:melon.link.goSongDetail('35985167');\", \"javascript:melon.link.goSongDetail('36440243');\", \"javascript:melon.link.goSongDetail('34819473');\", \"javascript:melon.link.goSongDetail('36110996');\", \"javascript:melon.link.goSongDetail('36105548');\", \"javascript:melon.link.goSongDetail('8037843');\", \"javascript:melon.link.goSongDetail('36394038');\", \"javascript:melon.link.goSongDetail('35640751');\", \"javascript:melon.link.goSongDetail('36180700');\", \"javascript:melon.link.goSongDetail('35546497');\", \"javascript:melon.link.goSongDetail('36416116');\", \"javascript:melon.link.goSongDetail('35535827');\", \"javascript:melon.link.goSongDetail('36411344');\", \"javascript:melon.link.goSongDetail('36410735');\", \"javascript:melon.link.goSongDetail('36428682');\", \"javascript:melon.link.goSongDetail('35729104');\", \"javascript:melon.link.goSongDetail('34847378');\", \"javascript:melon.link.goSongDetail('35454425');\", \"javascript:melon.link.goSongDetail('36365073');\", \"javascript:melon.link.goSongDetail('36414423');\", \"javascript:melon.link.goSongDetail('34061322');\", \"javascript:melon.link.goSongDetail('36145589');\", \"javascript:melon.link.goSongDetail('36371558');\", \"javascript:melon.link.goSongDetail('34657844');\", \"javascript:melon.link.goSongDetail('36444534');\", \"javascript:melon.link.goSongDetail('4446485');\", \"javascript:melon.link.goSongDetail('36359275');\", \"javascript:melon.link.goSongDetail('36266615');\", \"javascript:melon.link.goSongDetail('36206208');\", \"javascript:melon.link.goSongDetail('36334401');\", \"javascript:melon.link.goSongDetail('35730562');\", \"javascript:melon.link.goSongDetail('35252996');\", \"javascript:melon.link.goSongDetail('36416115');\", \"javascript:melon.link.goSongDetail('35643794');\", \"javascript:melon.link.goSongDetail('34864406');\", \"javascript:melon.link.goSongDetail('34754292');\", \"javascript:melon.link.goSongDetail('34908740');\", \"javascript:melon.link.goSongDetail('36001290');\", \"javascript:melon.link.goSongDetail('36351997');\", \"javascript:melon.link.goSongDetail('34431086');\", \"javascript:melon.link.goSongDetail('33658563');\", \"javascript:melon.link.goSongDetail('35361345');\", \"javascript:melon.link.goSongDetail('35953611');\", \"javascript:melon.link.goSongDetail('35931532');\", \"javascript:melon.link.goSongDetail('34927767');\", \"javascript:melon.link.goSongDetail('32872978');\", \"javascript:melon.link.goSongDetail('34787226');\", \"javascript:melon.link.goSongDetail('36456696');\", \"javascript:melon.link.goSongDetail('36245034');\", \"javascript:melon.link.goSongDetail('33496587');\", \"javascript:melon.link.goSongDetail('34349913');\", \"javascript:melon.link.goSongDetail('36325563');\", \"javascript:melon.link.goSongDetail('36322781');\", \"javascript:melon.link.goSongDetail('35640077');\", \"javascript:melon.link.goSongDetail('35009233');\", \"javascript:melon.link.goSongDetail('36447331');\", \"javascript:melon.link.goSongDetail('35008524');\", \"javascript:melon.link.goSongDetail('35595136');\", \"javascript:melon.link.goSongDetail('36472351');\", \"javascript:melon.link.goSongDetail('35834583');\", \"javascript:melon.link.goSongDetail('30244931');\", \"javascript:melon.link.goSongDetail('35542908');\", \"javascript:melon.link.goSongDetail('35383397');\", \"javascript:melon.link.goSongDetail('32508053');\", \"javascript:melon.link.goSongDetail('34270805');\", \"javascript:melon.link.goSongDetail('36441862');\", \"javascript:melon.link.goSongDetail('36391235');\", \"javascript:melon.link.goSongDetail('36313117');\", \"javascript:melon.link.goSongDetail('35834584');\", \"javascript:melon.link.goSongDetail('33507137');\", \"javascript:melon.link.goSongDetail('30962526');\", \"javascript:melon.link.goSongDetail('36034936');\", \"javascript:melon.link.goSongDetail('33666269');\", \"javascript:melon.link.goSongDetail('35008525');\", \"javascript:melon.link.goSongDetail('35008527');\", \"javascript:melon.link.goSongDetail('34943312');\", \"javascript:melon.link.goSongDetail('36312416');\", \"javascript:melon.link.goSongDetail('36480197');\", \"javascript:melon.link.goSongDetail('35485544');\", \"javascript:melon.link.goSongDetail('35849863');\", \"javascript:melon.link.goSongDetail('33359309');\", \"javascript:melon.link.goSongDetail('36445352');\", \"javascript:melon.link.goSongDetail('36452742');\", \"javascript:melon.link.goSongDetail('36481102');\", \"javascript:melon.link.goSongDetail('36235518');\", \"javascript:melon.link.goSongDetail('35008534');\", \"javascript:melon.link.goSongDetail('36348051');\"]\n"
     ]
    }
   ],
   "source": [
    "import requests as req\n",
    "from bs4 import BeautifulSoup as bs\n",
    "from selenium import webdriver\n",
    "import webbrowser\n",
    "\n",
    "headers={\"User-Agent\":\"Mozilla/5.0 (Windows NT 10.0; Win64; x64) AppleWebKit/537.36 (KHTML, like Gecko) Chrome/113.0.0.0 Safari/537.36\"}\n",
    "url=\"https://www.melon.com/chart/index.htm\"\n",
    "res_melon=req.get(url,headers=headers)\n",
    "\n",
    "res_melon\n",
    "soup_melon=bs(res_melon.text,\"html\")\n",
    "m_lyric=soup_melon.select(\"div.wrap>a[href]\")\n",
    "m_lyric\n",
    "\n",
    "java_href=[]\n",
    "\n",
    "for i in m_lyric:\n",
    "        java_href.append(i.get(\"href\"))\n",
    "    \n",
    "java_href=[data for data in java_href if \"goSongDetail\" in data]\n",
    "    \n",
    "print(java_href)"
   ]
  },
  {
   "cell_type": "code",
   "execution_count": 2,
   "id": "f9a955d6",
   "metadata": {
    "scrolled": true
   },
   "outputs": [
    {
     "ename": "NameError",
     "evalue": "name 're' is not defined",
     "output_type": "error",
     "traceback": [
      "\u001b[1;31m---------------------------------------------------------------------------\u001b[0m",
      "\u001b[1;31mNameError\u001b[0m                                 Traceback (most recent call last)",
      "Cell \u001b[1;32mIn[2], line 12\u001b[0m\n\u001b[0;32m      9\u001b[0m     \u001b[38;5;28;01mreturn\u001b[39;00m numbers_list\n\u001b[0;32m     11\u001b[0m \u001b[38;5;66;03m# Example usage\u001b[39;00m\n\u001b[1;32m---> 12\u001b[0m numbers_list \u001b[38;5;241m=\u001b[39m \u001b[43mfind_numbers_in_strings\u001b[49m\u001b[43m(\u001b[49m\u001b[43mjava_href\u001b[49m\u001b[43m)\u001b[49m\n\u001b[0;32m     13\u001b[0m \u001b[38;5;28mprint\u001b[39m(numbers_list)\n",
      "Cell \u001b[1;32mIn[2], line 6\u001b[0m, in \u001b[0;36mfind_numbers_in_strings\u001b[1;34m(data_list)\u001b[0m\n\u001b[0;32m      3\u001b[0m pattern \u001b[38;5;241m=\u001b[39m \u001b[38;5;124mr\u001b[39m\u001b[38;5;124m'\u001b[39m\u001b[38;5;124m\\\u001b[39m\u001b[38;5;124md+\u001b[39m\u001b[38;5;124m'\u001b[39m  \u001b[38;5;66;03m# Regular expression pattern to match numbers\u001b[39;00m\n\u001b[0;32m      5\u001b[0m \u001b[38;5;28;01mfor\u001b[39;00m string \u001b[38;5;129;01min\u001b[39;00m data_list:\n\u001b[1;32m----> 6\u001b[0m     numbers \u001b[38;5;241m=\u001b[39m \u001b[43mre\u001b[49m\u001b[38;5;241m.\u001b[39mfindall(pattern, string)\n\u001b[0;32m      7\u001b[0m     numbers_list\u001b[38;5;241m.\u001b[39mextend(numbers)\n\u001b[0;32m      9\u001b[0m \u001b[38;5;28;01mreturn\u001b[39;00m numbers_list\n",
      "\u001b[1;31mNameError\u001b[0m: name 're' is not defined"
     ]
    }
   ],
   "source": [
    "def find_numbers_in_strings(data_list):\n",
    "    numbers_list = []\n",
    "    pattern = r'\\d+'  # Regular expression pattern to match numbers\n",
    "\n",
    "    for string in data_list:\n",
    "        numbers = re.findall(pattern, string)\n",
    "        numbers_list.extend(numbers)\n",
    "\n",
    "    return numbers_list\n",
    "\n",
    "# Example usage\n",
    "numbers_list = find_numbers_in_strings(java_href)\n",
    "print(numbers_list)"
   ]
  },
  {
   "cell_type": "code",
   "execution_count": 42,
   "id": "42e3ea78",
   "metadata": {},
   "outputs": [],
   "source": [
    "headers={\"User-Agent\":\"Mozilla/5.0 (Windows NT 10.0; Win64; x64) AppleWebKit/537.36 (KHTML, like Gecko) Chrome/113.0.0.0 Safari/537.36\"}\n",
    "url=\"https://www.melon.com/song/detail.htm?songId=\"\n",
    "url_list=[]\n",
    "for i in numbers_list:\n",
    "    url_list.append(url+i)\n",
    "    "
   ]
  },
  {
   "cell_type": "code",
   "execution_count": 43,
   "id": "b66abc10",
   "metadata": {},
   "outputs": [
    {
     "name": "stdout",
     "output_type": "stream",
     "text": [
      "Failed to retrieve data from URL: https://www.melon.com/song/detail.htm?songId=36430773\n",
      "Failed to retrieve data from URL: https://www.melon.com/song/detail.htm?songId=36416114\n",
      "Failed to retrieve data from URL: https://www.melon.com/song/detail.htm?songId=36356993\n",
      "Failed to retrieve data from URL: https://www.melon.com/song/detail.htm?songId=36411342\n",
      "Failed to retrieve data from URL: https://www.melon.com/song/detail.htm?songId=36318125\n",
      "Failed to retrieve data from URL: https://www.melon.com/song/detail.htm?songId=36331121\n",
      "Failed to retrieve data from URL: https://www.melon.com/song/detail.htm?songId=36391236\n",
      "Failed to retrieve data from URL: https://www.melon.com/song/detail.htm?songId=34061322\n",
      "Failed to retrieve data from URL: https://www.melon.com/song/detail.htm?songId=35454426\n",
      "Failed to retrieve data from URL: https://www.melon.com/song/detail.htm?songId=35945927\n",
      "Failed to retrieve data from URL: https://www.melon.com/song/detail.htm?songId=36404853\n",
      "Failed to retrieve data from URL: https://www.melon.com/song/detail.htm?songId=34908740\n",
      "Failed to retrieve data from URL: https://www.melon.com/song/detail.htm?songId=35834583\n",
      "Failed to retrieve data from URL: https://www.melon.com/song/detail.htm?songId=36110996\n",
      "Failed to retrieve data from URL: https://www.melon.com/song/detail.htm?songId=36206259\n",
      "Failed to retrieve data from URL: https://www.melon.com/song/detail.htm?songId=36430774\n",
      "Failed to retrieve data from URL: https://www.melon.com/song/detail.htm?songId=35008524\n",
      "Failed to retrieve data from URL: https://www.melon.com/song/detail.htm?songId=35834584\n",
      "Failed to retrieve data from URL: https://www.melon.com/song/detail.htm?songId=35985167\n",
      "Failed to retrieve data from URL: https://www.melon.com/song/detail.htm?songId=36382580\n",
      "Failed to retrieve data from URL: https://www.melon.com/song/detail.htm?songId=32508053\n",
      "Failed to retrieve data from URL: https://www.melon.com/song/detail.htm?songId=35008525\n",
      "Failed to retrieve data from URL: https://www.melon.com/song/detail.htm?songId=36105548\n",
      "Failed to retrieve data from URL: https://www.melon.com/song/detail.htm?songId=34819473\n",
      "Failed to retrieve data from URL: https://www.melon.com/song/detail.htm?songId=36440243\n",
      "Failed to retrieve data from URL: https://www.melon.com/song/detail.htm?songId=35008527\n",
      "Failed to retrieve data from URL: https://www.melon.com/song/detail.htm?songId=36394038\n",
      "Failed to retrieve data from URL: https://www.melon.com/song/detail.htm?songId=8037843\n",
      "Failed to retrieve data from URL: https://www.melon.com/song/detail.htm?songId=36180700\n",
      "Failed to retrieve data from URL: https://www.melon.com/song/detail.htm?songId=35640751\n",
      "Failed to retrieve data from URL: https://www.melon.com/song/detail.htm?songId=36410735\n",
      "Failed to retrieve data from URL: https://www.melon.com/song/detail.htm?songId=35008528\n",
      "Failed to retrieve data from URL: https://www.melon.com/song/detail.htm?songId=35008534\n",
      "Failed to retrieve data from URL: https://www.melon.com/song/detail.htm?songId=36416116\n",
      "Failed to retrieve data from URL: https://www.melon.com/song/detail.htm?songId=35546497\n",
      "Failed to retrieve data from URL: https://www.melon.com/song/detail.htm?songId=35008526\n",
      "Failed to retrieve data from URL: https://www.melon.com/song/detail.htm?songId=35008531\n",
      "Failed to retrieve data from URL: https://www.melon.com/song/detail.htm?songId=35008532\n",
      "Failed to retrieve data from URL: https://www.melon.com/song/detail.htm?songId=35535827\n",
      "Failed to retrieve data from URL: https://www.melon.com/song/detail.htm?songId=36414423\n",
      "Failed to retrieve data from URL: https://www.melon.com/song/detail.htm?songId=35729104\n",
      "Failed to retrieve data from URL: https://www.melon.com/song/detail.htm?songId=34847378\n",
      "Failed to retrieve data from URL: https://www.melon.com/song/detail.htm?songId=35008530\n",
      "Failed to retrieve data from URL: https://www.melon.com/song/detail.htm?songId=36365073\n",
      "Failed to retrieve data from URL: https://www.melon.com/song/detail.htm?songId=35454425\n",
      "Failed to retrieve data from URL: https://www.melon.com/song/detail.htm?songId=36428682\n",
      "Failed to retrieve data from URL: https://www.melon.com/song/detail.htm?songId=36351997\n",
      "Failed to retrieve data from URL: https://www.melon.com/song/detail.htm?songId=36145589\n",
      "Failed to retrieve data from URL: https://www.melon.com/song/detail.htm?songId=36313117\n",
      "Failed to retrieve data from URL: https://www.melon.com/song/detail.htm?songId=32872978\n",
      "Failed to retrieve data from URL: https://www.melon.com/song/detail.htm?songId=36371558\n",
      "Failed to retrieve data from URL: https://www.melon.com/song/detail.htm?songId=36411344\n",
      "Failed to retrieve data from URL: https://www.melon.com/song/detail.htm?songId=34657844\n",
      "Failed to retrieve data from URL: https://www.melon.com/song/detail.htm?songId=4446485\n",
      "Failed to retrieve data from URL: https://www.melon.com/song/detail.htm?songId=36441862\n",
      "Failed to retrieve data from URL: https://www.melon.com/song/detail.htm?songId=36444534\n",
      "Failed to retrieve data from URL: https://www.melon.com/song/detail.htm?songId=36416115\n",
      "Failed to retrieve data from URL: https://www.melon.com/song/detail.htm?songId=35730562\n",
      "Failed to retrieve data from URL: https://www.melon.com/song/detail.htm?songId=36359275\n",
      "Failed to retrieve data from URL: https://www.melon.com/song/detail.htm?songId=30244931\n",
      "Failed to retrieve data from URL: https://www.melon.com/song/detail.htm?songId=36266615\n",
      "Failed to retrieve data from URL: https://www.melon.com/song/detail.htm?songId=34754292\n",
      "Failed to retrieve data from URL: https://www.melon.com/song/detail.htm?songId=36206208\n",
      "Failed to retrieve data from URL: https://www.melon.com/song/detail.htm?songId=33507137\n",
      "Failed to retrieve data from URL: https://www.melon.com/song/detail.htm?songId=36334401\n",
      "Failed to retrieve data from URL: https://www.melon.com/song/detail.htm?songId=35252996\n",
      "Failed to retrieve data from URL: https://www.melon.com/song/detail.htm?songId=36001290\n",
      "Failed to retrieve data from URL: https://www.melon.com/song/detail.htm?songId=35643794\n",
      "Failed to retrieve data from URL: https://www.melon.com/song/detail.htm?songId=35931532\n",
      "Failed to retrieve data from URL: https://www.melon.com/song/detail.htm?songId=36452742\n",
      "Failed to retrieve data from URL: https://www.melon.com/song/detail.htm?songId=34864406\n",
      "Failed to retrieve data from URL: https://www.melon.com/song/detail.htm?songId=33666269\n",
      "Failed to retrieve data from URL: https://www.melon.com/song/detail.htm?songId=36391235\n",
      "Failed to retrieve data from URL: https://www.melon.com/song/detail.htm?songId=35361345\n",
      "Failed to retrieve data from URL: https://www.melon.com/song/detail.htm?songId=33658563\n",
      "Failed to retrieve data from URL: https://www.melon.com/song/detail.htm?songId=35667692\n",
      "Failed to retrieve data from URL: https://www.melon.com/song/detail.htm?songId=34431086\n",
      "Failed to retrieve data from URL: https://www.melon.com/song/detail.htm?songId=35953611\n",
      "Failed to retrieve data from URL: https://www.melon.com/song/detail.htm?songId=34927767\n",
      "Failed to retrieve data from URL: https://www.melon.com/song/detail.htm?songId=34349913\n",
      "Failed to retrieve data from URL: https://www.melon.com/song/detail.htm?songId=35009233\n",
      "Failed to retrieve data from URL: https://www.melon.com/song/detail.htm?songId=34787226\n",
      "Failed to retrieve data from URL: https://www.melon.com/song/detail.htm?songId=36245034\n",
      "Failed to retrieve data from URL: https://www.melon.com/song/detail.htm?songId=33496587\n",
      "Failed to retrieve data from URL: https://www.melon.com/song/detail.htm?songId=35640077\n",
      "Failed to retrieve data from URL: https://www.melon.com/song/detail.htm?songId=36241824\n",
      "Failed to retrieve data from URL: https://www.melon.com/song/detail.htm?songId=35849863\n",
      "Failed to retrieve data from URL: https://www.melon.com/song/detail.htm?songId=36456696\n",
      "Failed to retrieve data from URL: https://www.melon.com/song/detail.htm?songId=35595136\n",
      "Failed to retrieve data from URL: https://www.melon.com/song/detail.htm?songId=36325563\n",
      "Failed to retrieve data from URL: https://www.melon.com/song/detail.htm?songId=36322781\n",
      "Failed to retrieve data from URL: https://www.melon.com/song/detail.htm?songId=35542908\n",
      "Failed to retrieve data from URL: https://www.melon.com/song/detail.htm?songId=36472351\n",
      "Failed to retrieve data from URL: https://www.melon.com/song/detail.htm?songId=35383397\n",
      "Failed to retrieve data from URL: https://www.melon.com/song/detail.htm?songId=34270805\n",
      "Failed to retrieve data from URL: https://www.melon.com/song/detail.htm?songId=36065180\n",
      "Failed to retrieve data from URL: https://www.melon.com/song/detail.htm?songId=36447331\n",
      "Failed to retrieve data from URL: https://www.melon.com/song/detail.htm?songId=36034936\n",
      "Failed to retrieve data from URL: https://www.melon.com/song/detail.htm?songId=35690912\n",
      "Failed to retrieve data from URL: https://www.melon.com/song/detail.htm?songId=30962526\n"
     ]
    }
   ],
   "source": [
    "response = []\n",
    "\n",
    "for i in url_list:\n",
    "    response = req.get(i,headers=headers)\n",
    "    if response.status_code ==200:\n",
    "        soup=bs(response.text,\"html\")\n",
    "\n",
    "        # Find the element containing the song lyrics using appropriate selectors\n",
    "        song_lyrics_element = soup.select_one(\"div.lyric\")\n",
    "\n",
    "        if song_lyrics_element:\n",
    "            # Extract the text from the element\n",
    "            song_lyrics = song_lyrics_element.get_text()\n",
    "\n",
    "            # Process or display the song lyrics as needed\n",
    "            print(song_lyrics)\n",
    "        else:\n",
    "            print(\"Song lyrics element not found on the webpage.\")\n",
    "    else:\n",
    "        print(f\"Failed to retrieve data from URL: {i}\")"
   ]
  }
 ],
 "metadata": {
  "kernelspec": {
   "display_name": "Python 3 (ipykernel)",
   "language": "python",
   "name": "python3"
  },
  "language_info": {
   "codemirror_mode": {
    "name": "ipython",
    "version": 3
   },
   "file_extension": ".py",
   "mimetype": "text/x-python",
   "name": "python",
   "nbconvert_exporter": "python",
   "pygments_lexer": "ipython3",
   "version": "3.10.9"
  }
 },
 "nbformat": 4,
 "nbformat_minor": 5
}
