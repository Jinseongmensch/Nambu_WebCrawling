{
 "cells": [
  {
   "cell_type": "code",
   "execution_count": 2,
   "id": "68c06a26",
   "metadata": {
    "scrolled": true
   },
   "outputs": [
    {
     "name": "stdout",
     "output_type": "stream",
     "text": [
      "[\"javascript:melon.link.goSongDetail('36430773');\", \"javascript:melon.link.goSongDetail('36416114');\", \"javascript:melon.link.goSongDetail('36356993');\", \"javascript:melon.link.goSongDetail('36411342');\", \"javascript:melon.link.goSongDetail('36318125');\", \"javascript:melon.link.goSongDetail('36391236');\", \"javascript:melon.link.goSongDetail('36331121');\", \"javascript:melon.link.goSongDetail('35454426');\", \"javascript:melon.link.goSongDetail('35945927');\", \"javascript:melon.link.goSongDetail('34061322');\", \"javascript:melon.link.goSongDetail('36404853');\", \"javascript:melon.link.goSongDetail('36430774');\", \"javascript:melon.link.goSongDetail('36206259');\", \"javascript:melon.link.goSongDetail('36382580');\", \"javascript:melon.link.goSongDetail('36440243');\", \"javascript:melon.link.goSongDetail('34908740');\", \"javascript:melon.link.goSongDetail('36110996');\", \"javascript:melon.link.goSongDetail('35985167');\", \"javascript:melon.link.goSongDetail('35008524');\", \"javascript:melon.link.goSongDetail('35834583');\", \"javascript:melon.link.goSongDetail('34819473');\", \"javascript:melon.link.goSongDetail('36105548');\", \"javascript:melon.link.goSongDetail('35834584');\", \"javascript:melon.link.goSongDetail('36416116');\", \"javascript:melon.link.goSongDetail('32508053');\", \"javascript:melon.link.goSongDetail('8037843');\", \"javascript:melon.link.goSongDetail('35008525');\", \"javascript:melon.link.goSongDetail('36180700');\", \"javascript:melon.link.goSongDetail('36394038');\", \"javascript:melon.link.goSongDetail('35640751');\", \"javascript:melon.link.goSongDetail('36414423');\", \"javascript:melon.link.goSongDetail('35008527');\", \"javascript:melon.link.goSongDetail('35546497');\", \"javascript:melon.link.goSongDetail('36428682');\", \"javascript:melon.link.goSongDetail('36411344');\", \"javascript:melon.link.goSongDetail('35008534');\", \"javascript:melon.link.goSongDetail('35008528');\", \"javascript:melon.link.goSongDetail('35729104');\", \"javascript:melon.link.goSongDetail('34847378');\", \"javascript:melon.link.goSongDetail('35008526');\", \"javascript:melon.link.goSongDetail('35454425');\", \"javascript:melon.link.goSongDetail('35008531');\", \"javascript:melon.link.goSongDetail('36410735');\", \"javascript:melon.link.goSongDetail('36365073');\", \"javascript:melon.link.goSongDetail('35008532');\", \"javascript:melon.link.goSongDetail('35535827');\", \"javascript:melon.link.goSongDetail('36351997');\", \"javascript:melon.link.goSongDetail('36444534');\", \"javascript:melon.link.goSongDetail('35008530');\", \"javascript:melon.link.goSongDetail('32872978');\", \"javascript:melon.link.goSongDetail('36313117');\", \"javascript:melon.link.goSongDetail('34657844');\", \"javascript:melon.link.goSongDetail('36371558');\", \"javascript:melon.link.goSongDetail('36145589');\", \"javascript:melon.link.goSongDetail('36441862');\", \"javascript:melon.link.goSongDetail('30244931');\", \"javascript:melon.link.goSongDetail('36416115');\", \"javascript:melon.link.goSongDetail('36359275');\", \"javascript:melon.link.goSongDetail('4446485');\", \"javascript:melon.link.goSongDetail('33507137');\", \"javascript:melon.link.goSongDetail('35730562');\", \"javascript:melon.link.goSongDetail('36266615');\", \"javascript:melon.link.goSongDetail('36481254');\", \"javascript:melon.link.goSongDetail('34754292');\", \"javascript:melon.link.goSongDetail('36206208');\", \"javascript:melon.link.goSongDetail('33666269');\", \"javascript:melon.link.goSongDetail('36452742');\", \"javascript:melon.link.goSongDetail('36334401');\", \"javascript:melon.link.goSongDetail('35252996');\", \"javascript:melon.link.goSongDetail('36001290');\", \"javascript:melon.link.goSongDetail('34864406');\", \"javascript:melon.link.goSongDetail('35643794');\", \"javascript:melon.link.goSongDetail('34431086');\", \"javascript:melon.link.goSongDetail('33658563');\", \"javascript:melon.link.goSongDetail('36456696');\", \"javascript:melon.link.goSongDetail('35931532');\", \"javascript:melon.link.goSongDetail('35361345');\", \"javascript:melon.link.goSongDetail('34349913');\", \"javascript:melon.link.goSongDetail('36391235');\", \"javascript:melon.link.goSongDetail('35640077');\", \"javascript:melon.link.goSongDetail('34927767');\", \"javascript:melon.link.goSongDetail('35953611');\", \"javascript:melon.link.goSongDetail('35009233');\", \"javascript:melon.link.goSongDetail('36241824');\", \"javascript:melon.link.goSongDetail('33496587');\", \"javascript:melon.link.goSongDetail('35849863');\", \"javascript:melon.link.goSongDetail('34787226');\", \"javascript:melon.link.goSongDetail('36325563');\", \"javascript:melon.link.goSongDetail('36245034');\", \"javascript:melon.link.goSongDetail('36447331');\", \"javascript:melon.link.goSongDetail('36472351');\", \"javascript:melon.link.goSongDetail('35542908');\", \"javascript:melon.link.goSongDetail('35667692');\", \"javascript:melon.link.goSongDetail('36322781');\", \"javascript:melon.link.goSongDetail('35595136');\", \"javascript:melon.link.goSongDetail('34270805');\", \"javascript:melon.link.goSongDetail('35383397');\", \"javascript:melon.link.goSongDetail('36034936');\", \"javascript:melon.link.goSongDetail('36065180');\", \"javascript:melon.link.goSongDetail('36480197');\"]\n"
     ]
    }
   ],
   "source": [
    "import requests\n",
    "from bs4 import BeautifulSoup\n",
    "\n",
    "def get_java_hrefs(url, headers):\n",
    "    res_melon = requests.get(url, headers=headers)\n",
    "    soup_melon = BeautifulSoup(res_melon.text, \"html.parser\")\n",
    "    m_lyric = soup_melon.select(\"div.wrap>a[href]\")\n",
    "    \n",
    "    java_href = []\n",
    "    \n",
    "    for i in m_lyric:\n",
    "        java_href.append(i.get(\"href\"))\n",
    "    \n",
    "    java_href = [data for data in java_href if \"goSongDetail\" in data]\n",
    "    \n",
    "    return java_href\n",
    "\n",
    "# Example usage:\n",
    "url = \"https://www.melon.com/chart/index.htm\"  # Replace with the actual URL\n",
    "headers = {\"User-Agent\":\"Mozilla/5.0 (Windows NT 10.0; Win64; x64) AppleWebKit/537.36 (KHTML, like Gecko) Chrome/113.0.0.0 Safari/537.36\"}  # Replace with the actual headers\n",
    "\n",
    "result = get_java_hrefs(url, headers)\n",
    "print(result)"
   ]
  },
  {
   "cell_type": "code",
   "execution_count": 4,
   "id": "08075ca3",
   "metadata": {
    "scrolled": true
   },
   "outputs": [
    {
     "name": "stdout",
     "output_type": "stream",
     "text": [
      "['36430773', '36416114', '36356993', '36411342', '36318125', '36391236', '36331121', '35454426', '35945927', '34061322', '36404853', '36430774', '36206259', '36382580', '36440243', '34908740', '36110996', '35985167', '35008524', '35834583', '34819473', '36105548', '35834584', '36416116', '32508053', '8037843', '35008525', '36180700', '36394038', '35640751', '36414423', '35008527', '35546497', '36428682', '36411344', '35008534', '35008528', '35729104', '34847378', '35008526', '35454425', '35008531', '36410735', '36365073', '35008532', '35535827', '36351997', '36444534', '35008530', '32872978', '36313117', '34657844', '36371558', '36145589', '36441862', '30244931', '36416115', '36359275', '4446485', '33507137', '35730562', '36266615', '36481254', '34754292', '36206208', '33666269', '36452742', '36334401', '35252996', '36001290', '34864406', '35643794', '34431086', '33658563', '36456696', '35931532', '35361345', '34349913', '36391235', '35640077', '34927767', '35953611', '35009233', '36241824', '33496587', '35849863', '34787226', '36325563', '36245034', '36447331', '36472351', '35542908', '35667692', '36322781', '35595136', '34270805', '35383397', '36034936', '36065180', '36480197']\n"
     ]
    }
   ],
   "source": [
    "import re\n",
    "\n",
    "def find_numbers_in_strings(data_list):\n",
    "    numbers_list = []\n",
    "    pattern = r'\\d+'  # Regular expression pattern to match numbers\n",
    "\n",
    "    for string in data_list:\n",
    "        numbers = re.findall(pattern, string)\n",
    "        numbers_list.extend(numbers)\n",
    "\n",
    "    return numbers_list\n",
    "\n",
    "# Example usage\n",
    "numbers_list = find_numbers_in_strings(result)\n",
    "print(numbers_list)"
   ]
  },
  {
   "cell_type": "code",
   "execution_count": 6,
   "id": "0c612137",
   "metadata": {
    "scrolled": true
   },
   "outputs": [
    {
     "name": "stdout",
     "output_type": "stream",
     "text": [
      "['https://www.melon.com/song/detail.htm?songId=36430773', 'https://www.melon.com/song/detail.htm?songId=36416114', 'https://www.melon.com/song/detail.htm?songId=36356993', 'https://www.melon.com/song/detail.htm?songId=36411342', 'https://www.melon.com/song/detail.htm?songId=36318125', 'https://www.melon.com/song/detail.htm?songId=36391236', 'https://www.melon.com/song/detail.htm?songId=36331121', 'https://www.melon.com/song/detail.htm?songId=35454426', 'https://www.melon.com/song/detail.htm?songId=35945927', 'https://www.melon.com/song/detail.htm?songId=34061322', 'https://www.melon.com/song/detail.htm?songId=36404853', 'https://www.melon.com/song/detail.htm?songId=36430774', 'https://www.melon.com/song/detail.htm?songId=36206259', 'https://www.melon.com/song/detail.htm?songId=36382580', 'https://www.melon.com/song/detail.htm?songId=36440243', 'https://www.melon.com/song/detail.htm?songId=34908740', 'https://www.melon.com/song/detail.htm?songId=36110996', 'https://www.melon.com/song/detail.htm?songId=35985167', 'https://www.melon.com/song/detail.htm?songId=35008524', 'https://www.melon.com/song/detail.htm?songId=35834583', 'https://www.melon.com/song/detail.htm?songId=34819473', 'https://www.melon.com/song/detail.htm?songId=36105548', 'https://www.melon.com/song/detail.htm?songId=35834584', 'https://www.melon.com/song/detail.htm?songId=36416116', 'https://www.melon.com/song/detail.htm?songId=32508053', 'https://www.melon.com/song/detail.htm?songId=8037843', 'https://www.melon.com/song/detail.htm?songId=35008525', 'https://www.melon.com/song/detail.htm?songId=36180700', 'https://www.melon.com/song/detail.htm?songId=36394038', 'https://www.melon.com/song/detail.htm?songId=35640751', 'https://www.melon.com/song/detail.htm?songId=36414423', 'https://www.melon.com/song/detail.htm?songId=35008527', 'https://www.melon.com/song/detail.htm?songId=35546497', 'https://www.melon.com/song/detail.htm?songId=36428682', 'https://www.melon.com/song/detail.htm?songId=36411344', 'https://www.melon.com/song/detail.htm?songId=35008534', 'https://www.melon.com/song/detail.htm?songId=35008528', 'https://www.melon.com/song/detail.htm?songId=35729104', 'https://www.melon.com/song/detail.htm?songId=34847378', 'https://www.melon.com/song/detail.htm?songId=35008526', 'https://www.melon.com/song/detail.htm?songId=35454425', 'https://www.melon.com/song/detail.htm?songId=35008531', 'https://www.melon.com/song/detail.htm?songId=36410735', 'https://www.melon.com/song/detail.htm?songId=36365073', 'https://www.melon.com/song/detail.htm?songId=35008532', 'https://www.melon.com/song/detail.htm?songId=35535827', 'https://www.melon.com/song/detail.htm?songId=36351997', 'https://www.melon.com/song/detail.htm?songId=36444534', 'https://www.melon.com/song/detail.htm?songId=35008530', 'https://www.melon.com/song/detail.htm?songId=32872978', 'https://www.melon.com/song/detail.htm?songId=36313117', 'https://www.melon.com/song/detail.htm?songId=34657844', 'https://www.melon.com/song/detail.htm?songId=36371558', 'https://www.melon.com/song/detail.htm?songId=36145589', 'https://www.melon.com/song/detail.htm?songId=36441862', 'https://www.melon.com/song/detail.htm?songId=30244931', 'https://www.melon.com/song/detail.htm?songId=36416115', 'https://www.melon.com/song/detail.htm?songId=36359275', 'https://www.melon.com/song/detail.htm?songId=4446485', 'https://www.melon.com/song/detail.htm?songId=33507137', 'https://www.melon.com/song/detail.htm?songId=35730562', 'https://www.melon.com/song/detail.htm?songId=36266615', 'https://www.melon.com/song/detail.htm?songId=36481254', 'https://www.melon.com/song/detail.htm?songId=34754292', 'https://www.melon.com/song/detail.htm?songId=36206208', 'https://www.melon.com/song/detail.htm?songId=33666269', 'https://www.melon.com/song/detail.htm?songId=36452742', 'https://www.melon.com/song/detail.htm?songId=36334401', 'https://www.melon.com/song/detail.htm?songId=35252996', 'https://www.melon.com/song/detail.htm?songId=36001290', 'https://www.melon.com/song/detail.htm?songId=34864406', 'https://www.melon.com/song/detail.htm?songId=35643794', 'https://www.melon.com/song/detail.htm?songId=34431086', 'https://www.melon.com/song/detail.htm?songId=33658563', 'https://www.melon.com/song/detail.htm?songId=36456696', 'https://www.melon.com/song/detail.htm?songId=35931532', 'https://www.melon.com/song/detail.htm?songId=35361345', 'https://www.melon.com/song/detail.htm?songId=34349913', 'https://www.melon.com/song/detail.htm?songId=36391235', 'https://www.melon.com/song/detail.htm?songId=35640077', 'https://www.melon.com/song/detail.htm?songId=34927767', 'https://www.melon.com/song/detail.htm?songId=35953611', 'https://www.melon.com/song/detail.htm?songId=35009233', 'https://www.melon.com/song/detail.htm?songId=36241824', 'https://www.melon.com/song/detail.htm?songId=33496587', 'https://www.melon.com/song/detail.htm?songId=35849863', 'https://www.melon.com/song/detail.htm?songId=34787226', 'https://www.melon.com/song/detail.htm?songId=36325563', 'https://www.melon.com/song/detail.htm?songId=36245034', 'https://www.melon.com/song/detail.htm?songId=36447331', 'https://www.melon.com/song/detail.htm?songId=36472351', 'https://www.melon.com/song/detail.htm?songId=35542908', 'https://www.melon.com/song/detail.htm?songId=35667692', 'https://www.melon.com/song/detail.htm?songId=36322781', 'https://www.melon.com/song/detail.htm?songId=35595136', 'https://www.melon.com/song/detail.htm?songId=34270805', 'https://www.melon.com/song/detail.htm?songId=35383397', 'https://www.melon.com/song/detail.htm?songId=36034936', 'https://www.melon.com/song/detail.htm?songId=36065180', 'https://www.melon.com/song/detail.htm?songId=36480197']\n"
     ]
    }
   ],
   "source": [
    "def generate_url_list(numbers_list, base_url):\n",
    "    url_list = []\n",
    "    for i in numbers_list:\n",
    "        url_list.append(base_url + i)\n",
    "    return url_list\n",
    "\n",
    "base_url=\"https://www.melon.com/song/detail.htm?songId=\"  # Replace with your base URL\n",
    "result = generate_url_list(numbers_list, base_url)\n",
    "print(result)"
   ]
  },
  {
   "cell_type": "code",
   "execution_count": 8,
   "id": "93405d5d",
   "metadata": {},
   "outputs": [
    {
     "name": "stdout",
     "output_type": "stream",
     "text": [
      "Execution result saved to song_lyrics.csv\n"
     ]
    }
   ],
   "source": [
    "import csv\n",
    "import requests as req\n",
    "from bs4 import BeautifulSoup as bs\n",
    "\n",
    "def scrape_and_save_lyrics(url_list):\n",
    "    # Header and user agent settings\n",
    "    headers = {\n",
    "        \"User-Agent\": \"Mozilla/5.0 (Windows NT 10.0; Win64; x64) AppleWebKit/537.36 (KHTML, like Gecko) Chrome/90.0.4430.212 Safari/537.36\",\n",
    "    }\n",
    "\n",
    "    result = []  # List to store the results\n",
    "\n",
    "    for url in url_list:\n",
    "        response = req.get(url, headers=headers)\n",
    "        if response.status_code == 200:\n",
    "            soup_response = bs(response.text, \"html.parser\")\n",
    "            song_lyrics_element = soup_response.select_one(\"div.lyric\")\n",
    "\n",
    "            if song_lyrics_element:\n",
    "                song_lyrics = song_lyrics_element.get_text()\n",
    "                result.append(song_lyrics)\n",
    "            else:\n",
    "                result.append(\"Song lyrics element not found on the webpage.\")\n",
    "        else:\n",
    "            result.append(f\"Failed to retrieve data from URL: {url}\")\n",
    "\n",
    "    # Save the results to a CSV file\n",
    "    csv_filename = \"song_lyrics.csv\"\n",
    "    with open(\"csv_filename\", \"w\", newline=\"\", encoding=\"utf-8-sig\") as csvfile:\n",
    "        writer = csv.writer(csvfile)\n",
    "        writer.writerow([\"Song Lyrics\"])\n",
    "        writer.writerows([[lyrics] for lyrics in result])\n",
    "\n",
    "    print(f\"Execution result saved to {csv_filename}\")\n",
    "\n",
    "\n",
    "\n",
    "scrape_and_save_lyrics(result)"
   ]
  }
 ],
 "metadata": {
  "kernelspec": {
   "display_name": "Python 3 (ipykernel)",
   "language": "python",
   "name": "python3"
  },
  "language_info": {
   "codemirror_mode": {
    "name": "ipython",
    "version": 3
   },
   "file_extension": ".py",
   "mimetype": "text/x-python",
   "name": "python",
   "nbconvert_exporter": "python",
   "pygments_lexer": "ipython3",
   "version": "3.10.9"
  }
 },
 "nbformat": 4,
 "nbformat_minor": 5
}
